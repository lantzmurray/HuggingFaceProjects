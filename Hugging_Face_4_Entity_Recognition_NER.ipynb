{
  "nbformat": 4,
  "nbformat_minor": 0,
  "metadata": {
    "colab": {
      "provenance": [],
      "collapsed_sections": [],
      "authorship_tag": "ABX9TyML8D1TCW5DihLAjHe53hxA",
      "include_colab_link": true
    },
    "kernelspec": {
      "name": "python3",
      "display_name": "Python 3"
    },
    "language_info": {
      "name": "python"
    }
  },
  "cells": [
    {
      "cell_type": "markdown",
      "metadata": {
        "id": "view-in-github",
        "colab_type": "text"
      },
      "source": [
        "<a href=\"https://colab.research.google.com/github/lantzmurray/HuggingFaceProjects/blob/main/Hugging_Face_4_Entity_Recognition_NER.ipynb\" target=\"_parent\"><img src=\"https://colab.research.google.com/assets/colab-badge.svg\" alt=\"Open In Colab\"/></a>"
      ]
    },
    {
      "cell_type": "code",
      "execution_count": 1,
      "metadata": {
        "colab": {
          "base_uri": "https://localhost:8080/"
        },
        "id": "qN5-LTQvgPhi",
        "outputId": "b14e5884-319a-4a5d-b399-a6a740d2b1ea"
      },
      "outputs": [
        {
          "output_type": "stream",
          "name": "stdout",
          "text": [
            "\u001b[K     |████████████████████████████████| 5.3 MB 31.6 MB/s \n",
            "\u001b[K     |████████████████████████████████| 163 kB 37.8 MB/s \n",
            "\u001b[K     |████████████████████████████████| 7.6 MB 34.6 MB/s \n",
            "\u001b[?25h"
          ]
        }
      ],
      "source": [
        "!pip install -q transformers"
      ]
    },
    {
      "cell_type": "code",
      "source": [
        "import warnings\n",
        "warnings.filterwarnings('ignore')"
      ],
      "metadata": {
        "id": "DeFB7VEsjjW-"
      },
      "execution_count": 2,
      "outputs": []
    },
    {
      "cell_type": "code",
      "source": [
        "from transformers import pipeline\n",
        "from transformers import AutoTokenizer\n",
        "from transformers import AutoModel"
      ],
      "metadata": {
        "id": "lepdPYHVjnbG"
      },
      "execution_count": 3,
      "outputs": []
    },
    {
      "cell_type": "code",
      "source": [
        "ner = pipeline('ner',model='dbmdz/bert-large-cased-finetuned-conll03-english',grouped_entities=True)\n",
        "ner(\"My name is Lantz Murray and I'm from Boardman,Ohio. I graduated from Western Governors University.\")"
      ],
      "metadata": {
        "colab": {
          "base_uri": "https://localhost:8080/"
        },
        "id": "Gyf4FGLkjpff",
        "outputId": "23e60368-0da5-44a4-9ae3-7ec39e9569ab"
      },
      "execution_count": 7,
      "outputs": [
        {
          "output_type": "execute_result",
          "data": {
            "text/plain": [
              "[{'entity_group': 'PER',\n",
              "  'score': 0.99807274,\n",
              "  'word': 'Lantz Murray',\n",
              "  'start': 11,\n",
              "  'end': 23},\n",
              " {'entity_group': 'LOC',\n",
              "  'score': 0.9766589,\n",
              "  'word': 'Boardman',\n",
              "  'start': 37,\n",
              "  'end': 45},\n",
              " {'entity_group': 'LOC',\n",
              "  'score': 0.99737,\n",
              "  'word': 'Ohio',\n",
              "  'start': 46,\n",
              "  'end': 50},\n",
              " {'entity_group': 'ORG',\n",
              "  'score': 0.99791795,\n",
              "  'word': 'Western Governors University',\n",
              "  'start': 69,\n",
              "  'end': 97}]"
            ]
          },
          "metadata": {},
          "execution_count": 7
        }
      ]
    },
    {
      "cell_type": "code",
      "source": [],
      "metadata": {
        "id": "vKAq7WNnkKW_"
      },
      "execution_count": 8,
      "outputs": []
    },
    {
      "cell_type": "code",
      "source": [],
      "metadata": {
        "id": "RwKsNJXzlGjY"
      },
      "execution_count": null,
      "outputs": []
    }
  ]
}