{
  "nbformat": 4,
  "nbformat_minor": 0,
  "metadata": {
    "colab": {
      "provenance": [],
      "authorship_tag": "ABX9TyMBEa5QNM/XHQo+qBKc4T+W",
      "include_colab_link": true
    },
    "kernelspec": {
      "name": "python3",
      "display_name": "Python 3"
    },
    "language_info": {
      "name": "python"
    }
  },
  "cells": [
    {
      "cell_type": "markdown",
      "metadata": {
        "id": "view-in-github",
        "colab_type": "text"
      },
      "source": [
        "<a href=\"https://colab.research.google.com/github/lantzmurray/HuggingFaceProjects/blob/main/Hugging_Face_2_Topic_Classification.ipynb\" target=\"_parent\"><img src=\"https://colab.research.google.com/assets/colab-badge.svg\" alt=\"Open In Colab\"/></a>"
      ]
    },
    {
      "cell_type": "code",
      "source": [
        "!pip install -q transformers"
      ],
      "metadata": {
        "colab": {
          "base_uri": "https://localhost:8080/"
        },
        "id": "8MRvWSiv6kZ9",
        "outputId": "f12d40f8-f95c-4e5b-8af7-e1b425194c43"
      },
      "execution_count": 1,
      "outputs": [
        {
          "output_type": "stream",
          "name": "stdout",
          "text": [
            "\u001b[K     |████████████████████████████████| 5.3 MB 15.4 MB/s \n",
            "\u001b[K     |████████████████████████████████| 163 kB 56.3 MB/s \n",
            "\u001b[K     |████████████████████████████████| 7.6 MB 21.5 MB/s \n",
            "\u001b[?25h"
          ]
        }
      ]
    },
    {
      "cell_type": "code",
      "source": [
        "import warnings\n",
        "warnings.filterwarnings('ignore')"
      ],
      "metadata": {
        "id": "3e2iDmv76kRb"
      },
      "execution_count": 3,
      "outputs": []
    },
    {
      "cell_type": "code",
      "source": [
        "from transformers import pipeline\n",
        "from transformers import AutoTokenizer\n",
        "from transformers import AutoModel"
      ],
      "metadata": {
        "id": "Cmxy4DhS6kHV"
      },
      "execution_count": 4,
      "outputs": []
    },
    {
      "cell_type": "code",
      "source": [
        "classifier = pipeline('zero-shot-classification',model='facebook/bart-large-mnli')\n",
        "classifier (\n",
        "    'Exploratory Data Analysis is first course in Machine Learning Program that introduces EDA, and data analysis libraries',\n",
        "    candidate_labels=['music','computers','data analysis']\n",
        "\n",
        ")"
      ],
      "metadata": {
        "colab": {
          "base_uri": "https://localhost:8080/"
        },
        "id": "W_fkJHuF7WCi",
        "outputId": "3bc6ba5c-ec44-4f76-8dd4-2046db627e2f"
      },
      "execution_count": 9,
      "outputs": [
        {
          "output_type": "execute_result",
          "data": {
            "text/plain": [
              "{'sequence': 'Exploratory Data Analysis is first course in Machine Learning Program that introduces EDA, and data analysis libraries',\n",
              " 'labels': ['data analysis', 'computers', 'music'],\n",
              " 'scores': [0.9821873903274536, 0.015596008859574795, 0.0022166345734149218]}"
            ]
          },
          "metadata": {},
          "execution_count": 9
        }
      ]
    },
    {
      "cell_type": "code",
      "execution_count": 12,
      "metadata": {
        "colab": {
          "base_uri": "https://localhost:8080/"
        },
        "id": "eiYW6i1n6h5C",
        "outputId": "b3f33803-63c2-4613-df69-2460df83d241"
      },
      "outputs": [
        {
          "output_type": "execute_result",
          "data": {
            "text/plain": [
              "{'sequence': 'Mike Tyson is a very hard heavyweight puncher',\n",
              " 'labels': ['boxing', 'wrestling', 'football'],\n",
              " 'scores': [0.9151114225387573, 0.05261774733662605, 0.03227084502577782]}"
            ]
          },
          "metadata": {},
          "execution_count": 12
        }
      ],
      "source": [
        "### \n",
        "\n",
        "classifier = pipeline('zero-shot-classification',model='facebook/bart-large-mnli')\n",
        "classifier (\n",
        "    'Mike Tyson is a very hard heavyweight puncher',\n",
        "    candidate_labels=['football','wrestling','boxing']\n",
        ")"
      ]
    },
    {
      "cell_type": "code",
      "source": [
        "classifier = pipeline('zero-shot-classification',model='facebook/bart-large-mnli')\n",
        "classifier (\n",
        "    'The Neptunes made alot of music using the Korg Triton',\n",
        "    candidate_labels=['keyboard','Pharrel Williams','Korg Keyboard','Chad Hugo']\n",
        ")"
      ],
      "metadata": {
        "colab": {
          "base_uri": "https://localhost:8080/"
        },
        "id": "SUfO1I8E9Edz",
        "outputId": "8e409bcf-1f19-4696-dbd9-02195c6881bb"
      },
      "execution_count": 19,
      "outputs": [
        {
          "output_type": "execute_result",
          "data": {
            "text/plain": [
              "{'sequence': 'The Neptunes made alot of music using the Korg Triton',\n",
              " 'labels': ['keyboard', 'Korg Keyboard', 'Chad Hugo', 'Pharrel Williams'],\n",
              " 'scores': [0.5888906717300415,\n",
              "  0.369055837392807,\n",
              "  0.025208186358213425,\n",
              "  0.01684529148042202]}"
            ]
          },
          "metadata": {},
          "execution_count": 19
        }
      ]
    },
    {
      "cell_type": "code",
      "source": [],
      "metadata": {
        "id": "1LJZFROp98n5"
      },
      "execution_count": null,
      "outputs": []
    }
  ]
}